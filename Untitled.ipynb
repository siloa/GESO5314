{
 "cells": [
  {
   "cell_type": "code",
   "execution_count": 1,
   "id": "5220f0cb",
   "metadata": {},
   "outputs": [
    {
     "name": "stdout",
     "output_type": "stream",
     "text": [
      "Collecting netcdf4\n",
      "  Downloading netCDF4-1.6.2-cp39-cp39-macosx_10_9_x86_64.whl (4.1 MB)\n",
      "\u001b[K     |████████████████████████████████| 4.1 MB 3.9 MB/s eta 0:00:01\n",
      "\u001b[?25hCollecting cftime\n",
      "  Downloading cftime-1.6.2-cp39-cp39-macosx_10_9_x86_64.whl (260 kB)\n",
      "\u001b[K     |████████████████████████████████| 260 kB 30.0 MB/s eta 0:00:01\n",
      "\u001b[?25hRequirement already satisfied: numpy>=1.9 in /Users/siloa/opt/anaconda3/lib/python3.9/site-packages (from netcdf4) (1.21.5)\n",
      "Installing collected packages: cftime, netcdf4\n",
      "Successfully installed cftime-1.6.2 netcdf4-1.6.2\n"
     ]
    }
   ],
   "source": [
    "! pip install netcdf4"
   ]
  },
  {
   "cell_type": "code",
   "execution_count": 18,
   "id": "6e45be67",
   "metadata": {},
   "outputs": [
    {
     "name": "stdout",
     "output_type": "stream",
     "text": [
      "<class 'netCDF4._netCDF4.Dataset'>\n",
      "root group (NETCDF3_CLASSIC data model, file format NETCDF3):\n",
      "    title: GPCP 1x1 Precipitation Monitoring\n",
      "    Conventions: CF-1.0\n",
      "    history: CAS Jul 2021\n",
      "    platform: Observation\n",
      "    source: PSL\n",
      "    References: https://www.psl.noaa.gov/data/gridded/data.gpcc.html\n",
      "    Original_Source: http://www.dwd.de/en/FundE/Klima/KLIS/int/GPCC/GPCC.htm\n",
      " is the webpage and the data is at ftp://ftp.dwd.de/pub/data/gpcc/download.html\n",
      "    Reference: Users of the data sets are kindly requested \n",
      "to give feed back and to refer to following GPCC publications:\n",
      "Rudolf, B., H. Hauschild, W. Rueth and U. Schneider (1994)\n",
      ": Terrestrial Precipitation Analysis: Operational Method and Required\n",
      " Density of Point Measurements. In: Global Precipitations and\n",
      " Climate Change (Ed. M. Desbois, F. Desalmond), NATO ASI Series I\n",
      ", Vol. 26, Springer-Verlag, p. 173-186.\n",
      "Rudolf, B., T. Fuchs, U. Schneider and A. Meyer-Christoffer (2003):\n",
      ", Introduction of the Global Precipitation Climatology Centre (GPCC),\n",
      "Deutscher Wetterdienst, Offenbach a.M.; pp. 16,\n",
      "download from GPCC's Website GPCC Homepage: http://gpcc.dwd.de (1994 - 2005)\n",
      "    dataset_title: Global Precipitation Climatology Centre (GPCC)\n",
      "    dimensions(sizes): lon(360), lat(180), nbnds(2), time(490)\n",
      "    variables(dimensions): float32 lat(lat), float32 lon(lon), float64 time(time), float64 time_bnds(time, nbnds), float32 precip(time, lat, lon)\n",
      "    groups: \n"
     ]
    }
   ],
   "source": [
    "import netCDF4\n",
    "f = netCDF4.Dataset('precip.monitor.mon.total.1x1.v2020.nc', 'r')\n",
    "print(f)"
   ]
  },
  {
   "cell_type": "code",
   "execution_count": 19,
   "id": "6b8a4189",
   "metadata": {},
   "outputs": [
    {
     "name": "stdout",
     "output_type": "stream",
     "text": [
      "<class 'netCDF4._netCDF4.Variable'>\n",
      "float32 precip(time, lat, lon)\n",
      "    long_name: GPCC Precipitation: Monitoring Version 2020\n",
      "    valid_range: [   0. 3000.]\n",
      "    actual_range: [   0.   2418.93]\n",
      "    missing_value: -9.96921e+36\n",
      "    units: mm\n",
      "    precision: 2\n",
      "    least_significant_digit: 2\n",
      "    var_desc: Precipitaton\n",
      "    dataset: GPCC Precipitation: 1degree monitoring V2020\n",
      "    level_desc: Surface\n",
      "    statistic: Mean\n",
      "    parent_stat: Individual Obs\n",
      "    standard_name: precipitation_amount\n",
      "    level: Surface\n",
      "unlimited dimensions: time\n",
      "current shape = (490, 180, 360)\n",
      "filling on, default _FillValue of 9.969209968386869e+36 used\n"
     ]
    }
   ],
   "source": [
    "precip = f.variables['precip']  # Precipitation variable\n",
    "print(precip) "
   ]
  },
  {
   "cell_type": "code",
   "execution_count": 20,
   "id": "613f7030",
   "metadata": {},
   "outputs": [
    {
     "name": "stdout",
     "output_type": "stream",
     "text": [
      "<class 'netCDF4._netCDF4.Dimension'>: name = 'lon', size = 360\n",
      "<class 'netCDF4._netCDF4.Dimension'>: name = 'lat', size = 180\n",
      "<class 'netCDF4._netCDF4.Dimension'>: name = 'nbnds', size = 2\n",
      "<class 'netCDF4._netCDF4.Dimension'> (unlimited): name = 'time', size = 490\n"
     ]
    }
   ],
   "source": [
    "for dname, d in f.dimensions.items():\n",
    "    print(d)"
   ]
  },
  {
   "cell_type": "code",
   "execution_count": 21,
   "id": "ac3b5f74",
   "metadata": {},
   "outputs": [
    {
     "data": {
      "text/plain": [
       "('time', 'lat', 'lon')"
      ]
     },
     "execution_count": 21,
     "metadata": {},
     "output_type": "execute_result"
    }
   ],
   "source": [
    "precip.dimensions"
   ]
  },
  {
   "cell_type": "code",
   "execution_count": 22,
   "id": "8c8a906d",
   "metadata": {},
   "outputs": [
    {
     "data": {
      "text/plain": [
       "(490, 180, 360)"
      ]
     },
     "execution_count": 22,
     "metadata": {},
     "output_type": "execute_result"
    }
   ],
   "source": [
    "precip.shape"
   ]
  },
  {
   "cell_type": "code",
   "execution_count": null,
   "id": "506750ab",
   "metadata": {},
   "outputs": [],
   "source": []
  },
  {
   "cell_type": "code",
   "execution_count": 24,
   "id": "d8e67e9b",
   "metadata": {},
   "outputs": [],
   "source": [
    "#convert to csv\n",
    "\n",
    "import pandas as pd\n",
    "\n",
    "precip_nc_file = 'precip.monitor.mon.total.1x1.v2020.nc'\n",
    "nc = netCDF4.Dataset(precip_nc_file, mode='r')\n",
    "\n",
    "nc.variables.keys()\n",
    "\n",
    "lat = nc.variables['lat'][:]\n",
    "lon = nc.variables['lon'][:]\n",
    "time_var = nc.variables['time']\n",
    "dtime = netCDF4.num2date(time_var[:],time_var.units)\n",
    "\n",
    "\n",
    "# a pandas.Series designed for time series of a 2D lat,lon grid\n",
    "precip_ts = pd.Series(precip, index=dtime) \n",
    "\n",
    "precip_ts.to_csv('precip.csv',index=True, header=True)\n"
   ]
  },
  {
   "cell_type": "code",
   "execution_count": null,
   "id": "5f277e5f",
   "metadata": {},
   "outputs": [],
   "source": []
  }
 ],
 "metadata": {
  "kernelspec": {
   "display_name": "Python 3 (ipykernel)",
   "language": "python",
   "name": "python3"
  },
  "language_info": {
   "codemirror_mode": {
    "name": "ipython",
    "version": 3
   },
   "file_extension": ".py",
   "mimetype": "text/x-python",
   "name": "python",
   "nbconvert_exporter": "python",
   "pygments_lexer": "ipython3",
   "version": "3.9.12"
  }
 },
 "nbformat": 4,
 "nbformat_minor": 5
}
